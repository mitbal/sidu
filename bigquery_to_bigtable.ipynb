{
 "cells": [
  {
   "cell_type": "code",
   "execution_count": 1,
   "metadata": {},
   "outputs": [],
   "source": [
    "# Convert CSV file exported from bigquery table into BigTable avro format that can be ingested using Dataflow template"
   ]
  },
  {
   "cell_type": "code",
   "execution_count": 14,
   "metadata": {},
   "outputs": [],
   "source": [
    "import json\n",
    "from datetime import datetime\n",
    "\n",
    "import pandas as pd\n",
    "from avro.schema import Parse\n",
    "from avro.io import DatumWriter\n",
    "from avro.datafile import DataFileWriter"
   ]
  },
  {
   "cell_type": "code",
   "execution_count": 15,
   "metadata": {},
   "outputs": [
    {
     "data": {
      "text/html": [
       "<div>\n",
       "<style scoped>\n",
       "    .dataframe tbody tr th:only-of-type {\n",
       "        vertical-align: middle;\n",
       "    }\n",
       "\n",
       "    .dataframe tbody tr th {\n",
       "        vertical-align: top;\n",
       "    }\n",
       "\n",
       "    .dataframe thead th {\n",
       "        text-align: right;\n",
       "    }\n",
       "</style>\n",
       "<table border=\"1\" class=\"dataframe\">\n",
       "  <thead>\n",
       "    <tr style=\"text-align: right;\">\n",
       "      <th></th>\n",
       "      <th>user_id</th>\n",
       "      <th>channel</th>\n",
       "      <th>history</th>\n",
       "      <th>zip_code</th>\n",
       "      <th>created_timestamp</th>\n",
       "    </tr>\n",
       "  </thead>\n",
       "  <tbody>\n",
       "    <tr>\n",
       "      <th>0</th>\n",
       "      <td>UID0896</td>\n",
       "      <td>Web</td>\n",
       "      <td>141.38</td>\n",
       "      <td>Rural</td>\n",
       "      <td>2022-04-30T00:00:00Z</td>\n",
       "    </tr>\n",
       "    <tr>\n",
       "      <th>1</th>\n",
       "      <td>UID5256</td>\n",
       "      <td>Web</td>\n",
       "      <td>121.47</td>\n",
       "      <td>Rural</td>\n",
       "      <td>2022-04-30T00:00:00Z</td>\n",
       "    </tr>\n",
       "    <tr>\n",
       "      <th>2</th>\n",
       "      <td>UID7512</td>\n",
       "      <td>Web</td>\n",
       "      <td>49.75</td>\n",
       "      <td>Rural</td>\n",
       "      <td>2022-04-30T00:00:00Z</td>\n",
       "    </tr>\n",
       "    <tr>\n",
       "      <th>3</th>\n",
       "      <td>UID3136</td>\n",
       "      <td>Web</td>\n",
       "      <td>447.09</td>\n",
       "      <td>Rural</td>\n",
       "      <td>2022-04-30T00:00:00Z</td>\n",
       "    </tr>\n",
       "    <tr>\n",
       "      <th>4</th>\n",
       "      <td>UID2096</td>\n",
       "      <td>Web</td>\n",
       "      <td>63.72</td>\n",
       "      <td>Rural</td>\n",
       "      <td>2022-04-30T00:00:00Z</td>\n",
       "    </tr>\n",
       "  </tbody>\n",
       "</table>\n",
       "</div>"
      ],
      "text/plain": [
       "   user_id channel  history zip_code     created_timestamp\n",
       "0  UID0896     Web   141.38    Rural  2022-04-30T00:00:00Z\n",
       "1  UID5256     Web   121.47    Rural  2022-04-30T00:00:00Z\n",
       "2  UID7512     Web    49.75    Rural  2022-04-30T00:00:00Z\n",
       "3  UID3136     Web   447.09    Rural  2022-04-30T00:00:00Z\n",
       "4  UID2096     Web    63.72    Rural  2022-04-30T00:00:00Z"
      ]
     },
     "execution_count": 15,
     "metadata": {},
     "output_type": "execute_result"
    }
   ],
   "source": [
    "df = pd.read_csv('feature_table.csv')\n",
    "df.head()"
   ]
  },
  {
   "cell_type": "code",
   "execution_count": 16,
   "metadata": {},
   "outputs": [],
   "source": [
    "bigtable_schema = {\n",
    "    \"name\" : \"BigtableRow\",\n",
    "    \"type\" : \"record\",\n",
    "    \"namespace\" : \"com.google.cloud.teleport.bigtable\",\n",
    "    \"fields\" : [\n",
    "      { \"name\" : \"key\", \"type\" : \"bytes\"},\n",
    "      { \"name\" : \"cells\",\n",
    "        \"type\" : {\n",
    "          \"type\" : \"array\",\n",
    "          \"items\": {\n",
    "            \"name\": \"BigtableCell\",\n",
    "            \"type\": \"record\",\n",
    "            \"fields\": [\n",
    "              { \"name\" : \"family\", \"type\" : \"string\"},\n",
    "              { \"name\" : \"qualifier\", \"type\" : \"bytes\"},\n",
    "              { \"name\" : \"timestamp\", \"type\" : \"long\", \"logicalType\" : \"timestamp-micros\"},\n",
    "              { \"name\" : \"value\", \"type\" : \"bytes\"}\n",
    "            ]\n",
    "          }\n",
    "        }\n",
    "      }\n",
    "   ]\n",
    "}"
   ]
  },
  {
   "cell_type": "code",
   "execution_count": 17,
   "metadata": {},
   "outputs": [],
   "source": [
    "parsed_schema = Parse(json.dumps(bigtable_schema))"
   ]
  },
  {
   "cell_type": "code",
   "execution_count": 25,
   "metadata": {},
   "outputs": [],
   "source": [
    "row_key = 'user_id'\n",
    "family_name = 'feature_name'\n",
    "feature_list = ['channel', 'zip_code', 'history']"
   ]
  },
  {
   "cell_type": "code",
   "execution_count": 27,
   "metadata": {},
   "outputs": [],
   "source": [
    "with open('features.avro', 'wb') as f:\n",
    "\n",
    "    writer = DataFileWriter(f, DatumWriter(), parsed_schema)\n",
    "\n",
    "    for item in df.iterrows():\n",
    "\n",
    "        row = item[1]\n",
    "        ts =  int(datetime.now().timestamp()) * 1000 * 1000\n",
    "\n",
    "        for feat in feature_list:\n",
    "\n",
    "            writer.append({\n",
    "                \"key\": row[row_key].encode('utf-8'),\n",
    "                \"cells\": [{\"family\": family_name, \"qualifier\": feat.encode('utf-8'), \"timestamp\": ts, \"value\": str(row[feat]).encode('utf-8')}]\n",
    "            })\n",
    "        \n",
    "    writer.close()\n"
   ]
  },
  {
   "cell_type": "code",
   "execution_count": 49,
   "metadata": {},
   "outputs": [
    {
     "name": "stdout",
     "output_type": "stream",
     "text": [
      "Copying file://features.avro [Content-Type=application/octet-stream]...\n",
      "/ [1 files][  690.0 B/  690.0 B]                                                \n",
      "Operation completed over 1 objects/690.0 B.                                      \n"
     ]
    }
   ],
   "source": [
    "!gsutil cp features.avro gs://mitochondrion-bucket-id/features6.avro"
   ]
  },
  {
   "cell_type": "code",
   "execution_count": null,
   "metadata": {},
   "outputs": [],
   "source": []
  }
 ],
 "metadata": {
  "kernelspec": {
   "display_name": "Python 3.9.1 ('base')",
   "language": "python",
   "name": "python3"
  },
  "language_info": {
   "codemirror_mode": {
    "name": "ipython",
    "version": 3
   },
   "file_extension": ".py",
   "mimetype": "text/x-python",
   "name": "python",
   "nbconvert_exporter": "python",
   "pygments_lexer": "ipython3",
   "version": "3.9.1"
  },
  "orig_nbformat": 4,
  "vscode": {
   "interpreter": {
    "hash": "0c5188a96b217161fb1c005f727af44fe0ad9ac935c05b782336afa836d834ed"
   }
  }
 },
 "nbformat": 4,
 "nbformat_minor": 2
}
